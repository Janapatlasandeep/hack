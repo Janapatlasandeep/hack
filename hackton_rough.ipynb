{
 "cells": [
  {
   "cell_type": "code",
   "execution_count": 1,
   "id": "43912334-1242-4366-8bcc-60fd7e4c6cf4",
   "metadata": {},
   "outputs": [],
   "source": [
    "import pandas as pd\n",
    "import numpy as np"
   ]
  },
  {
   "cell_type": "code",
   "execution_count": 45,
   "id": "d5e5ea31-ed01-4ba0-be53-65db081e2434",
   "metadata": {},
   "outputs": [],
   "source": [
    "title = pd.read_csv(r\"C:\\Users\\pc world\\Downloads\\movie_data\\movies.csv\")"
   ]
  },
  {
   "cell_type": "code",
   "execution_count": 46,
   "id": "ef71ba39-41d3-4820-9b8e-d716607994e9",
   "metadata": {},
   "outputs": [
    {
     "data": {
      "text/html": [
       "<div>\n",
       "<style scoped>\n",
       "    .dataframe tbody tr th:only-of-type {\n",
       "        vertical-align: middle;\n",
       "    }\n",
       "\n",
       "    .dataframe tbody tr th {\n",
       "        vertical-align: top;\n",
       "    }\n",
       "\n",
       "    .dataframe thead th {\n",
       "        text-align: right;\n",
       "    }\n",
       "</style>\n",
       "<table border=\"1\" class=\"dataframe\">\n",
       "  <thead>\n",
       "    <tr style=\"text-align: right;\">\n",
       "      <th></th>\n",
       "      <th>movieId</th>\n",
       "      <th>title</th>\n",
       "      <th>genres</th>\n",
       "    </tr>\n",
       "  </thead>\n",
       "  <tbody>\n",
       "    <tr>\n",
       "      <th>0</th>\n",
       "      <td>1</td>\n",
       "      <td>Toy Story (1995)</td>\n",
       "      <td>Adventure|Animation|Children|Comedy|Fantasy</td>\n",
       "    </tr>\n",
       "  </tbody>\n",
       "</table>\n",
       "</div>"
      ],
      "text/plain": [
       "   movieId             title                                       genres\n",
       "0        1  Toy Story (1995)  Adventure|Animation|Children|Comedy|Fantasy"
      ]
     },
     "execution_count": 46,
     "metadata": {},
     "output_type": "execute_result"
    }
   ],
   "source": [
    "title.head(1)"
   ]
  },
  {
   "cell_type": "code",
   "execution_count": 43,
   "id": "686c0415-9419-4160-9d38-e398e8b81d5b",
   "metadata": {},
   "outputs": [],
   "source": [
    "imdb = pd.read_csv(r\"C:\\Users\\pc world\\Downloads\\movie_data\\links.csv\")"
   ]
  },
  {
   "cell_type": "code",
   "execution_count": 44,
   "id": "d7158504-9c68-49d8-930a-abca40886642",
   "metadata": {},
   "outputs": [
    {
     "data": {
      "text/html": [
       "<div>\n",
       "<style scoped>\n",
       "    .dataframe tbody tr th:only-of-type {\n",
       "        vertical-align: middle;\n",
       "    }\n",
       "\n",
       "    .dataframe tbody tr th {\n",
       "        vertical-align: top;\n",
       "    }\n",
       "\n",
       "    .dataframe thead th {\n",
       "        text-align: right;\n",
       "    }\n",
       "</style>\n",
       "<table border=\"1\" class=\"dataframe\">\n",
       "  <thead>\n",
       "    <tr style=\"text-align: right;\">\n",
       "      <th></th>\n",
       "      <th>movieId</th>\n",
       "      <th>imdbId</th>\n",
       "      <th>tmdbId</th>\n",
       "    </tr>\n",
       "  </thead>\n",
       "  <tbody>\n",
       "    <tr>\n",
       "      <th>0</th>\n",
       "      <td>1</td>\n",
       "      <td>114709</td>\n",
       "      <td>862.0</td>\n",
       "    </tr>\n",
       "  </tbody>\n",
       "</table>\n",
       "</div>"
      ],
      "text/plain": [
       "   movieId  imdbId  tmdbId\n",
       "0        1  114709   862.0"
      ]
     },
     "execution_count": 44,
     "metadata": {},
     "output_type": "execute_result"
    }
   ],
   "source": [
    "imdb.head(1)"
   ]
  },
  {
   "cell_type": "code",
   "execution_count": 41,
   "id": "0c42da0d-f0c8-4765-a541-09fcf2060d1a",
   "metadata": {},
   "outputs": [],
   "source": [
    "rating = pd.read_csv(r\"C:\\Users\\pc world\\Downloads\\movie_data\\ratings.csv\")"
   ]
  },
  {
   "cell_type": "code",
   "execution_count": 42,
   "id": "9e399dd4-bedd-4192-ba7b-2170048a3d51",
   "metadata": {},
   "outputs": [
    {
     "data": {
      "text/html": [
       "<div>\n",
       "<style scoped>\n",
       "    .dataframe tbody tr th:only-of-type {\n",
       "        vertical-align: middle;\n",
       "    }\n",
       "\n",
       "    .dataframe tbody tr th {\n",
       "        vertical-align: top;\n",
       "    }\n",
       "\n",
       "    .dataframe thead th {\n",
       "        text-align: right;\n",
       "    }\n",
       "</style>\n",
       "<table border=\"1\" class=\"dataframe\">\n",
       "  <thead>\n",
       "    <tr style=\"text-align: right;\">\n",
       "      <th></th>\n",
       "      <th>userId</th>\n",
       "      <th>movieId</th>\n",
       "      <th>rating</th>\n",
       "      <th>timestamp</th>\n",
       "    </tr>\n",
       "  </thead>\n",
       "  <tbody>\n",
       "    <tr>\n",
       "      <th>0</th>\n",
       "      <td>1</td>\n",
       "      <td>1</td>\n",
       "      <td>4.0</td>\n",
       "      <td>964982703</td>\n",
       "    </tr>\n",
       "  </tbody>\n",
       "</table>\n",
       "</div>"
      ],
      "text/plain": [
       "   userId  movieId  rating  timestamp\n",
       "0       1        1     4.0  964982703"
      ]
     },
     "execution_count": 42,
     "metadata": {},
     "output_type": "execute_result"
    }
   ],
   "source": [
    "rating.head(1)"
   ]
  },
  {
   "cell_type": "code",
   "execution_count": 39,
   "id": "f7d54ddb-7ee8-47dc-a39a-76aff747258b",
   "metadata": {},
   "outputs": [],
   "source": [
    "tag= pd.read_csv(r\"C:\\Users\\pc world\\Downloads\\movie_data\\tags.csv\")"
   ]
  },
  {
   "cell_type": "code",
   "execution_count": 40,
   "id": "bd192f3d-9b56-4cbf-b9e2-54072e1505ec",
   "metadata": {},
   "outputs": [
    {
     "data": {
      "text/html": [
       "<div>\n",
       "<style scoped>\n",
       "    .dataframe tbody tr th:only-of-type {\n",
       "        vertical-align: middle;\n",
       "    }\n",
       "\n",
       "    .dataframe tbody tr th {\n",
       "        vertical-align: top;\n",
       "    }\n",
       "\n",
       "    .dataframe thead th {\n",
       "        text-align: right;\n",
       "    }\n",
       "</style>\n",
       "<table border=\"1\" class=\"dataframe\">\n",
       "  <thead>\n",
       "    <tr style=\"text-align: right;\">\n",
       "      <th></th>\n",
       "      <th>userId</th>\n",
       "      <th>movieId</th>\n",
       "      <th>tag</th>\n",
       "      <th>timestamp</th>\n",
       "    </tr>\n",
       "  </thead>\n",
       "  <tbody>\n",
       "    <tr>\n",
       "      <th>0</th>\n",
       "      <td>2</td>\n",
       "      <td>60756</td>\n",
       "      <td>funny</td>\n",
       "      <td>1445714994</td>\n",
       "    </tr>\n",
       "  </tbody>\n",
       "</table>\n",
       "</div>"
      ],
      "text/plain": [
       "   userId  movieId    tag   timestamp\n",
       "0       2    60756  funny  1445714994"
      ]
     },
     "execution_count": 40,
     "metadata": {},
     "output_type": "execute_result"
    }
   ],
   "source": [
    "tag.head(1)"
   ]
  },
  {
   "cell_type": "code",
   "execution_count": null,
   "id": "66c857e1-70b8-4e76-be9c-5c1498f62fb8",
   "metadata": {},
   "outputs": [],
   "source": []
  },
  {
   "cell_type": "code",
   "execution_count": null,
   "id": "1756ae0f-7b2e-4e34-a4ab-a3ab9418af7f",
   "metadata": {},
   "outputs": [],
   "source": []
  },
  {
   "cell_type": "code",
   "execution_count": 48,
   "id": "f66baaf6-f03a-458f-96df-5d28df837d46",
   "metadata": {},
   "outputs": [
    {
     "name": "stdout",
     "output_type": "stream",
     "text": [
      "      movieId  rating_count  average_rating\n",
      "0           1           215        3.920930\n",
      "1           2           110        3.431818\n",
      "2           3            52        3.259615\n",
      "3           4             7        2.357143\n",
      "4           5            49        3.071429\n",
      "...       ...           ...             ...\n",
      "9719   193581             1        4.000000\n",
      "9720   193583             1        3.500000\n",
      "9721   193585             1        3.500000\n",
      "9722   193587             1        3.500000\n",
      "9723   193609             1        4.000000\n",
      "\n",
      "[9724 rows x 3 columns]\n"
     ]
    }
   ],
   "source": [
    "\n",
    "# Group by 'movieId' and calculate count and mean of 'rating'\n",
    "grouped_df = rating.groupby('movieId')['rating'].agg(['count', 'mean']).reset_index()\n",
    "\n",
    "# Rename columns for clarity (optional)\n",
    "grouped_df.columns = ['movieId', 'rating_count', 'average_rating']\n",
    "\n",
    "print(grouped_df)\n"
   ]
  },
  {
   "cell_type": "code",
   "execution_count": 49,
   "id": "d0407636-870a-4044-a8b9-0c3ee0913fce",
   "metadata": {},
   "outputs": [
    {
     "name": "stdout",
     "output_type": "stream",
     "text": [
      "      movieId                                      title  \\\n",
      "0           1                           Toy Story (1995)   \n",
      "1           2                             Jumanji (1995)   \n",
      "2           3                    Grumpier Old Men (1995)   \n",
      "3           4                   Waiting to Exhale (1995)   \n",
      "4           5         Father of the Bride Part II (1995)   \n",
      "...       ...                                        ...   \n",
      "9719   193581  Black Butler: Book of the Atlantic (2017)   \n",
      "9720   193583               No Game No Life: Zero (2017)   \n",
      "9721   193585                               Flint (2017)   \n",
      "9722   193587        Bungo Stray Dogs: Dead Apple (2018)   \n",
      "9723   193609        Andrew Dice Clay: Dice Rules (1991)   \n",
      "\n",
      "                                           genres  rating_count  \\\n",
      "0     Adventure|Animation|Children|Comedy|Fantasy           215   \n",
      "1                      Adventure|Children|Fantasy           110   \n",
      "2                                  Comedy|Romance            52   \n",
      "3                            Comedy|Drama|Romance             7   \n",
      "4                                          Comedy            49   \n",
      "...                                           ...           ...   \n",
      "9719              Action|Animation|Comedy|Fantasy             1   \n",
      "9720                     Animation|Comedy|Fantasy             1   \n",
      "9721                                        Drama             1   \n",
      "9722                             Action|Animation             1   \n",
      "9723                                       Comedy             1   \n",
      "\n",
      "      average_rating  \n",
      "0           3.920930  \n",
      "1           3.431818  \n",
      "2           3.259615  \n",
      "3           2.357143  \n",
      "4           3.071429  \n",
      "...              ...  \n",
      "9719        4.000000  \n",
      "9720        3.500000  \n",
      "9721        3.500000  \n",
      "9722        3.500000  \n",
      "9723        4.000000  \n",
      "\n",
      "[9724 rows x 5 columns]\n"
     ]
    }
   ],
   "source": [
    "\n",
    "merged_df = pd.merge(title, grouped_df, on='movieId', how='inner')\n",
    "\n",
    "print(merged_df)\n"
   ]
  },
  {
   "cell_type": "code",
   "execution_count": 50,
   "id": "76920d4d-2277-447f-862c-3ae299cf10ca",
   "metadata": {},
   "outputs": [
    {
     "name": "stdout",
     "output_type": "stream",
     "text": [
      "      movieId                             title  \\\n",
      "0           1                  Toy Story (1995)   \n",
      "1           2                    Jumanji (1995)   \n",
      "2           3           Grumpier Old Men (1995)   \n",
      "5           6                       Heat (1995)   \n",
      "6           7                    Sabrina (1995)   \n",
      "...       ...                               ...   \n",
      "8287   106782   Wolf of Wall Street, The (2013)   \n",
      "8354   109374  Grand Budapest Hotel, The (2014)   \n",
      "8358   109487               Interstellar (2014)   \n",
      "8457   112852    Guardians of the Galaxy (2014)   \n",
      "8673   122904                   Deadpool (2016)   \n",
      "\n",
      "                                           genres  rating_count  \\\n",
      "0     Adventure|Animation|Children|Comedy|Fantasy           215   \n",
      "1                      Adventure|Children|Fantasy           110   \n",
      "2                                  Comedy|Romance            52   \n",
      "5                           Action|Crime|Thriller           102   \n",
      "6                                  Comedy|Romance            54   \n",
      "...                                           ...           ...   \n",
      "8287                           Comedy|Crime|Drama            54   \n",
      "8354                                 Comedy|Drama            52   \n",
      "8358                                  Sci-Fi|IMAX            73   \n",
      "8457                      Action|Adventure|Sci-Fi            59   \n",
      "8673               Action|Adventure|Comedy|Sci-Fi            54   \n",
      "\n",
      "      average_rating  \n",
      "0           3.920930  \n",
      "1           3.431818  \n",
      "2           3.259615  \n",
      "5           3.946078  \n",
      "6           3.185185  \n",
      "...              ...  \n",
      "8287        3.916667  \n",
      "8354        3.778846  \n",
      "8358        3.993151  \n",
      "8457        4.050847  \n",
      "8673        3.833333  \n",
      "\n",
      "[436 rows x 5 columns]\n"
     ]
    }
   ],
   "source": [
    "import pandas as pd\n",
    "\n",
    "# Assuming you already have the merged DataFrame from previous steps\n",
    "# Filter movies with more than 50 ratings\n",
    "filtered_df = merged_df[merged_df['rating_count'] > 50]\n",
    "\n",
    "print(filtered_df)\n"
   ]
  },
  {
   "cell_type": "code",
   "execution_count": 51,
   "id": "610f7dde-0384-47b6-9a8a-c77c09b2e253",
   "metadata": {},
   "outputs": [
    {
     "name": "stdout",
     "output_type": "stream",
     "text": [
      "The most popular movie based on average user ratings is 'Shawshank Redemption, The (1994)' with an average rating of 4.43.\n"
     ]
    }
   ],
   "source": [
    "most_popular_movie = filtered_df.loc[filtered_df['average_rating'].idxmax()]\n",
    "\n",
    "print(f\"The most popular movie based on average user ratings is '{most_popular_movie['title']}' with an average rating of {most_popular_movie['average_rating']:.2f}.\")\n"
   ]
  },
  {
   "cell_type": "code",
   "execution_count": 53,
   "id": "c5aed8c3-b64c-467f-9abb-1f24b15d16d5",
   "metadata": {},
   "outputs": [
    {
     "name": "stdout",
     "output_type": "stream",
     "text": [
      "                              title  rating_count\n",
      "0               Forrest Gump (1994)           329\n",
      "1  Shawshank Redemption, The (1994)           317\n",
      "2               Pulp Fiction (1994)           307\n",
      "3  Silence of the Lambs, The (1991)           279\n",
      "4                Matrix, The (1999)           278\n"
     ]
    }
   ],
   "source": [
    "import pandas as pd\n",
    "\n",
    "# Assuming grouped_df is already created with columns: movieId, rating_count, average_rating\n",
    "\n",
    "# Sort the DataFrame by rating_count in descending order and select the top 5\n",
    "top_5_movies = grouped_df.sort_values(by='rating_count', ascending=False).head(5)\n",
    "\n",
    "# Load movie names for these IDs\n",
    "top_5_movies_with_names = pd.merge(top_5_movies, title, on='movieId')\n",
    "\n",
    "print(top_5_movies_with_names[['title', 'rating_count']])\n"
   ]
  },
  {
   "cell_type": "code",
   "execution_count": 54,
   "id": "f00e4e67-a607-492f-9f50-e91e23428576",
   "metadata": {},
   "outputs": [
    {
     "name": "stdout",
     "output_type": "stream",
     "text": [
      "The third most popular Sci-Fi movie based on the number of user ratings is 'Jurassic Park (1993)' with 238 ratings.\n"
     ]
    }
   ],
   "source": [
    "\n",
    "# Merge the DataFrames on 'movieId'\n",
    "merged_df = pd.merge(grouped_df, title, on='movieId')\n",
    "\n",
    "# Filter Sci-Fi movies\n",
    "sci_fi_movies = merged_df[merged_df['genres'].str.contains('Sci-Fi', case=False)]\n",
    "\n",
    "# Sort by rating_count in descending order and select the third movie\n",
    "third_most_popular_sci_fi = sci_fi_movies.sort_values(by='rating_count', ascending=False).iloc[2]\n",
    "\n",
    "print(f\"The third most popular Sci-Fi movie based on the number of user ratings is '{third_most_popular_sci_fi['title']}' with {third_most_popular_sci_fi['rating_count']} ratings.\")\n"
   ]
  },
  {
   "cell_type": "code",
   "execution_count": 56,
   "id": "f7e7c041-f308-4693-9246-635dbfba032b",
   "metadata": {},
   "outputs": [
    {
     "name": "stdout",
     "output_type": "stream",
     "text": [
      "The movieId of the movie with the highest IMDB rating is: 193587\n"
     ]
    }
   ],
   "source": [
    "# Merge the DataFrames on movieId\n",
    "merged_df = pd.merge(imdb, title, on='movieId')\n",
    "\n",
    "# Find the movie with the highest IMDB rating\n",
    "highest_rated_movie = merged_df.loc[merged_df['imdbId'].idxmax()]\n",
    "\n",
    "# Extract the movieId\n",
    "highest_rated_movie_id = highest_rated_movie['movieId']\n",
    "\n",
    "print(f\"The movieId of the movie with the highest IMDB rating is: {highest_rated_movie_id}\")\n"
   ]
  },
  {
   "cell_type": "code",
   "execution_count": 57,
   "id": "da415857-422f-456c-9203-eb289ad74055",
   "metadata": {},
   "outputs": [],
   "source": [
    "# Merge the DataFrames on movieId\n",
    "merged_df = pd.merge(imdb, title, on='movieId')\n"
   ]
  },
  {
   "cell_type": "code",
   "execution_count": 58,
   "id": "11473b0b-e013-4b6c-85bc-fb6c6343c4db",
   "metadata": {},
   "outputs": [],
   "source": [
    "# Filter for Sci-Fi movies\n",
    "sci_fi_df = merged_df[merged_df['genres'].str.contains('Sci-Fi', case=False, na=False)]\n"
   ]
  },
  {
   "cell_type": "code",
   "execution_count": 59,
   "id": "2a93e92c-9ac7-4c08-b1d4-c32562f3e9c7",
   "metadata": {},
   "outputs": [
    {
     "name": "stdout",
     "output_type": "stream",
     "text": [
      "The movieId of the Sci-Fi movie with the highest IMDB rating is: 179053\n"
     ]
    }
   ],
   "source": [
    "# Find the Sci-Fi movie with the highest IMDB rating\n",
    "best_sci_fi_movie = sci_fi_df.loc[sci_fi_df['imdbId'].idxmax()]\n",
    "\n",
    "# Get the movieId of that movie\n",
    "best_sci_fi_movie_id = best_sci_fi_movie['movieId']\n",
    "\n",
    "print(f\"The movieId of the Sci-Fi movie with the highest IMDB rating is: {best_sci_fi_movie_id}\")\n"
   ]
  },
  {
   "cell_type": "code",
   "execution_count": null,
   "id": "3b0a2d9b-e78d-40a5-b83a-504a91eda2cc",
   "metadata": {},
   "outputs": [],
   "source": []
  }
 ],
 "metadata": {
  "kernelspec": {
   "display_name": "Python 3 (ipykernel)",
   "language": "python",
   "name": "python3"
  },
  "language_info": {
   "codemirror_mode": {
    "name": "ipython",
    "version": 3
   },
   "file_extension": ".py",
   "mimetype": "text/x-python",
   "name": "python",
   "nbconvert_exporter": "python",
   "pygments_lexer": "ipython3",
   "version": "3.11.7"
  }
 },
 "nbformat": 4,
 "nbformat_minor": 5
}
